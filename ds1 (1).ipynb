{
  "nbformat": 4,
  "nbformat_minor": 0,
  "metadata": {
    "colab": {
      "provenance": []
    },
    "kernelspec": {
      "name": "python3",
      "display_name": "Python 3"
    },
    "language_info": {
      "name": "python"
    }
  },
  "cells": [
    {
      "cell_type": "code",
      "execution_count": 1,
      "metadata": {
        "colab": {
          "base_uri": "https://localhost:8080/"
        },
        "id": "gIo-5BTvtxdq",
        "outputId": "277344a6-dfc8-40c8-f4a1-c9b7b02a8696"
      },
      "outputs": [
        {
          "output_type": "stream",
          "name": "stdout",
          "text": [
            "enter the number 1:5\n",
            "enter the number 2:2\n",
            "7\n"
          ]
        }
      ],
      "source": [
        "num1 = int(input(\"enter the number 1:\"))\n",
        "num2 = int(input(\"enter the number 2:\"))\n",
        "sum = num1+num2\n",
        "print (sum)"
      ]
    },
    {
      "cell_type": "code",
      "source": [
        "side = int(input(\"enter the side :\"))\n",
        "Area = side*side\n",
        "print(Area)"
      ],
      "metadata": {
        "colab": {
          "base_uri": "https://localhost:8080/"
        },
        "id": "u72b9rILIXVS",
        "outputId": "72337aa9-3028-48a2-bdd8-c429b8af85cb"
      },
      "execution_count": 2,
      "outputs": [
        {
          "output_type": "stream",
          "name": "stdout",
          "text": [
            "enter the side :2\n",
            "4\n"
          ]
        }
      ]
    },
    {
      "cell_type": "code",
      "source": [
        "num1 = float (input(\"enter the number 1:\"))\n",
        "num2 = float (input(\"enter the number 2:\"))\n",
        "Avg=(num1+num2)/2\n",
        "print(Avg)"
      ],
      "metadata": {
        "colab": {
          "base_uri": "https://localhost:8080/"
        },
        "id": "mwPdXDycIzST",
        "outputId": "106d36b6-32cd-4c4a-bb66-2d7bcccc8a7e"
      },
      "execution_count": 3,
      "outputs": [
        {
          "output_type": "stream",
          "name": "stdout",
          "text": [
            "enter the number 1:2\n",
            "enter the number 2:5\n",
            "3.5\n"
          ]
        }
      ]
    },
    {
      "cell_type": "code",
      "source": [
        "num1 = int(input(\"enter the number 1:\"))\n",
        "num2 = int(input(\"enter the number 2:\"))\n",
        "print(num1>=num2)"
      ],
      "metadata": {
        "colab": {
          "base_uri": "https://localhost:8080/"
        },
        "id": "Lt3PY-yOJfbF",
        "outputId": "8c6592bb-abba-4b42-db38-11654fb3228f"
      },
      "execution_count": 5,
      "outputs": [
        {
          "output_type": "stream",
          "name": "stdout",
          "text": [
            "enter the number 1:2\n",
            "enter the number 2:5\n",
            "False\n"
          ]
        }
      ]
    },
    {
      "cell_type": "code",
      "source": [
        "name = input(\"enter your name:\")\n",
        "age = int(input(\"enter your age:\"))\n",
        "print (\"Hello\",name,\"!! you are\",age,\"years old\")"
      ],
      "metadata": {
        "colab": {
          "base_uri": "https://localhost:8080/"
        },
        "id": "h0oHbm-8Kk_C",
        "outputId": "4917e397-6341-428c-abf3-7108301fc2de"
      },
      "execution_count": 8,
      "outputs": [
        {
          "output_type": "stream",
          "name": "stdout",
          "text": [
            "enter your name:kimmi\n",
            "enter your age:18\n",
            "Hello kimmi !! you are 18 years old\n"
          ]
        }
      ]
    },
    {
      "cell_type": "code",
      "source": [
        "current_age = int(input(\"enter your age:\"))\n",
        "x=age+5\n",
        "print(\"in 5 years you'll be\",x,\"years old\")"
      ],
      "metadata": {
        "colab": {
          "base_uri": "https://localhost:8080/"
        },
        "id": "8CUOfi5uMoeT",
        "outputId": "09de6530-f97c-4701-93de-e8b41e65a36b"
      },
      "execution_count": 10,
      "outputs": [
        {
          "output_type": "stream",
          "name": "stdout",
          "text": [
            "enter your age:18\n",
            "in 5 years you'll be 23 years old\n"
          ]
        }
      ]
    },
    {
      "cell_type": "code",
      "source": [
        "C = int(input(\"enter the degrees in celsius:\"))\n",
        "F = (C * 9/5)+32\n",
        "print(\"The result in farenhiets is\",F,)"
      ],
      "metadata": {
        "colab": {
          "base_uri": "https://localhost:8080/"
        },
        "id": "439rqWOCNqVd",
        "outputId": "27519475-b7cf-4914-8b0c-fd77e05eb368"
      },
      "execution_count": 11,
      "outputs": [
        {
          "output_type": "stream",
          "name": "stdout",
          "text": [
            "enter the degrees in celsius:18\n",
            "The result in farenhiets is 64.4\n"
          ]
        }
      ]
    },
    {
      "cell_type": "code",
      "source": [
        "R = float(input(\"enter the radius:\"))\n",
        "pi = 3.14\n",
        "Area = pi * R**2\n",
        "print(\"area of circle is\",Area,)\n"
      ],
      "metadata": {
        "colab": {
          "base_uri": "https://localhost:8080/"
        },
        "id": "7qnLN5smObF7",
        "outputId": "ddbbaa5e-3948-42df-bd3a-e5c234f8befb"
      },
      "execution_count": 16,
      "outputs": [
        {
          "output_type": "stream",
          "name": "stdout",
          "text": [
            "enter the radius:2\n",
            "area of circle is 12.56\n"
          ]
        }
      ]
    },
    {
      "cell_type": "code",
      "source": [
        "Age = int(input(\"enter the age:\"))\n",
        "if Age >= 18:\n",
        "  print(\"you're eligible to vote!!\");\n",
        "else:\n",
        "    print(\"you're not eligible.\");\n",
        "\n"
      ],
      "metadata": {
        "colab": {
          "base_uri": "https://localhost:8080/"
        },
        "id": "psQPUH-4Qg_a",
        "outputId": "824d9432-58b7-4669-930a-3c1b5284ae32"
      },
      "execution_count": 23,
      "outputs": [
        {
          "output_type": "stream",
          "name": "stdout",
          "text": [
            "enter the age:3\n",
            "you're not eligible.\n"
          ]
        }
      ]
    },
    {
      "cell_type": "code",
      "source": [
        "number = int(input(\"enter the number:\"))\n",
        "if number%2==0:\n",
        "  print(\"even\")\n",
        "else:\n",
        "  print(\"odd\")"
      ],
      "metadata": {
        "colab": {
          "base_uri": "https://localhost:8080/"
        },
        "id": "tlD4P_8aSjuS",
        "outputId": "3550d0b6-5230-4006-f165-e9b37ca444c2"
      },
      "execution_count": 25,
      "outputs": [
        {
          "output_type": "stream",
          "name": "stdout",
          "text": [
            "enter the number:5\n",
            "odd\n"
          ]
        }
      ]
    },
    {
      "cell_type": "code",
      "source": [
        "name=\"Harshitha\"\n",
        "peru=input(\"enter the string:\")\n",
        "if name==peru:\n",
        "  print(\"Hey Harshitha!! i love youuu\")\n",
        "else:\n",
        "  print(\"string doesn't match with the name\")"
      ],
      "metadata": {
        "colab": {
          "base_uri": "https://localhost:8080/"
        },
        "id": "9ud47cDMT0ju",
        "outputId": "7325bffe-37d7-4cef-ec05-3c88e639274d"
      },
      "execution_count": 3,
      "outputs": [
        {
          "output_type": "stream",
          "name": "stdout",
          "text": [
            "enter the string:Harshitha\n",
            "Hey Harshitha!! i love youuu\n"
          ]
        }
      ]
    },
    {
      "cell_type": "code",
      "source": [
        "user_input_value=input(\"enter anything:\")\n",
        "print(type(user_input_value))"
      ],
      "metadata": {
        "colab": {
          "base_uri": "https://localhost:8080/"
        },
        "id": "TpK8oCFUxIyb",
        "outputId": "8d4153fe-77ca-4d04-a21c-e742ad8ad2a6"
      },
      "execution_count": 20,
      "outputs": [
        {
          "output_type": "stream",
          "name": "stdout",
          "text": [
            "enter anything:kimmi\n",
            "<class 'str'>\n"
          ]
        }
      ]
    },
    {
      "cell_type": "code",
      "source": [
        "password=(input(\"enter your password:\"))\n",
        "if password==\"python123\":\n",
        "  print(\"access granted\")\n",
        "else:\n",
        "  print(\"access declined\")\n"
      ],
      "metadata": {
        "colab": {
          "base_uri": "https://localhost:8080/"
        },
        "id": "K9x1ZyciyciI",
        "outputId": "cdf042af-7adf-49b5-84ad-732d176dbe9b"
      },
      "execution_count": 23,
      "outputs": [
        {
          "output_type": "stream",
          "name": "stdout",
          "text": [
            "enter your password:python123\n",
            "access granted\n"
          ]
        }
      ]
    },
    {
      "cell_type": "code",
      "source": [
        "marks = int(input(\"enter your marks:\"))\n",
        "if marks>=90:\n",
        "  print(\"Yayy!! you passed with Grade A\")\n",
        "elif marks>=70:\n",
        "  print(\"you passed with grade B\")\n",
        "elif marks>=50:\n",
        "  print(\"you passed with grade C\")\n",
        "else:\n",
        "  print(\"you have failed in this exam!!\")"
      ],
      "metadata": {
        "colab": {
          "base_uri": "https://localhost:8080/"
        },
        "id": "3kdqwLUrzM8N",
        "outputId": "12d91e1b-4d32-45e2-b0d2-92cedc652e13"
      },
      "execution_count": 27,
      "outputs": [
        {
          "output_type": "stream",
          "name": "stdout",
          "text": [
            "enter your marks:98\n",
            "Yayy!! you passed with Grade A\n"
          ]
        }
      ]
    },
    {
      "cell_type": "code",
      "source": [
        "name=input(\"enter the name:\")\n",
        "print(len(name))"
      ],
      "metadata": {
        "colab": {
          "base_uri": "https://localhost:8080/"
        },
        "id": "Tua32YzcJMyB",
        "outputId": "9d62e5dc-f1a9-4ebb-d5c5-a8e12b48f61a"
      },
      "execution_count": 1,
      "outputs": [
        {
          "output_type": "stream",
          "name": "stdout",
          "text": [
            "enter the name:kimmi\n",
            "5\n"
          ]
        }
      ]
    },
    {
      "cell_type": "code",
      "source": [
        "str=\" i am a gold $digger $ of $29.99 dollars $\"\n",
        "print(str.count(\"$\"))"
      ],
      "metadata": {
        "colab": {
          "base_uri": "https://localhost:8080/"
        },
        "id": "isXEAnNVJh46",
        "outputId": "a3b267d2-784e-4ac7-b35d-6aada49a436f"
      },
      "execution_count": 3,
      "outputs": [
        {
          "output_type": "stream",
          "name": "stdout",
          "text": [
            "4\n"
          ]
        }
      ]
    },
    {
      "cell_type": "code",
      "source": [
        "num=int(input(\"enter a number:\"))\n",
        "if num%2==0:\n",
        "  print(\"EVEN\")\n",
        "else:\n",
        "  print(\"odd\")"
      ],
      "metadata": {
        "colab": {
          "base_uri": "https://localhost:8080/"
        },
        "id": "nbypu5LLKGtH",
        "outputId": "77f6e774-d0c5-4107-eddc-bfeba2ec6d9b"
      },
      "execution_count": 4,
      "outputs": [
        {
          "output_type": "stream",
          "name": "stdout",
          "text": [
            "enter a number:5\n",
            "odd\n"
          ]
        }
      ]
    },
    {
      "cell_type": "code",
      "source": [
        "num1=int(input(\"enter the number1:\"))\n",
        "num2=int(input(\"enter the number2:\"))\n",
        "num3=int(input(\"enter the number3:\"))\n",
        "if(num1>=num2 & num1>num3):\n",
        "  print(\"num1 is the largest\",num1)\n",
        "elif(num2>num3):\n",
        "  print(\"num2 is the largest\",num2)\n",
        "else:\n",
        "  print(\"num3 is the largest\",num3)\n"
      ],
      "metadata": {
        "colab": {
          "base_uri": "https://localhost:8080/"
        },
        "id": "OnNI0gzLKYjy",
        "outputId": "fe7f4dc0-1d5e-4f0f-d3ae-673bee713b0e"
      },
      "execution_count": 6,
      "outputs": [
        {
          "output_type": "stream",
          "name": "stdout",
          "text": [
            "enter the number1:2\n",
            "enter the number2:8\n",
            "enter the number3:5\n",
            "num2 is the largest 8\n"
          ]
        }
      ]
    },
    {
      "cell_type": "code",
      "source": [
        "num=int(input(\"enter the number:\"))\n",
        "if(num%7==0):\n",
        "  print(\"is a multiple\")\n",
        "else:\n",
        "  print(\"not a multiple\")\n",
        ""
      ],
      "metadata": {
        "colab": {
          "base_uri": "https://localhost:8080/"
        },
        "id": "wHB_fCXxLdLB",
        "outputId": "bace87f9-a26d-4d71-b0ed-7437c6fb7277"
      },
      "execution_count": 8,
      "outputs": [
        {
          "output_type": "stream",
          "name": "stdout",
          "text": [
            "enter the number:5\n",
            "not a multiple\n"
          ]
        }
      ]
    },
    {
      "cell_type": "code",
      "source": [
        "str=input(\"enter a string:\")\n",
        "palindrome=str[::-1]\n",
        "if(palindrome==str):\n",
        "  print(\"its a palindrome\")\n",
        "else:\n",
        "  print(\"no,its not a palindrome\")"
      ],
      "metadata": {
        "colab": {
          "base_uri": "https://localhost:8080/"
        },
        "id": "Oqsvd0TkMlwF",
        "outputId": "57979780-c53e-4c71-872b-88faa3a356ff"
      },
      "execution_count": 14,
      "outputs": [
        {
          "output_type": "stream",
          "name": "stdout",
          "text": [
            "enter a string:madam\n",
            "no,its not a palindrome\n"
          ]
        }
      ]
    },
    {
      "cell_type": "code",
      "source": [
        "str=input(\"enter a string:\")\n",
        "vowels=\"aeiouAEIOU\"\n",
        "count=0\n",
        "for char in str:\n",
        "  if char in vowels:\n",
        "    count +=1\n",
        "print(\"number of vowels in string is \",count)\n"
      ],
      "metadata": {
        "colab": {
          "base_uri": "https://localhost:8080/"
        },
        "id": "bmTJ-WoIOMbg",
        "outputId": "c34803db-1e50-4af3-e5bf-a2feef7bded5"
      },
      "execution_count": 17,
      "outputs": [
        {
          "output_type": "stream",
          "name": "stdout",
          "text": [
            "enter a string:i am a good girl\n",
            "number of vowels in string is  6\n"
          ]
        }
      ]
    },
    {
      "cell_type": "code",
      "source": [
        "str=input(\"enter a string:\")\n",
        "words=str.split()\n",
        "print(\"the frequency in string is\",len(words))"
      ],
      "metadata": {
        "colab": {
          "base_uri": "https://localhost:8080/"
        },
        "id": "NehObA1xQAj8",
        "outputId": "cc844d39-03ce-4785-a5de-b3a138c6139a"
      },
      "execution_count": 18,
      "outputs": [
        {
          "output_type": "stream",
          "name": "stdout",
          "text": [
            "enter a string:kimmi is a good girl\n",
            "the frequency in string is 5\n"
          ]
        }
      ]
    },
    {
      "cell_type": "code",
      "source": [
        "str=input(\"enter a string:\")\n",
        "print(str.swapcase())"
      ],
      "metadata": {
        "colab": {
          "base_uri": "https://localhost:8080/"
        },
        "id": "C0QFQNlbRsSt",
        "outputId": "de26f0ba-df05-46bb-8157-c90a94e4baa3"
      },
      "execution_count": 20,
      "outputs": [
        {
          "output_type": "stream",
          "name": "stdout",
          "text": [
            "enter a string:Kimmi\n",
            "kIMMI\n"
          ]
        }
      ]
    },
    {
      "cell_type": "code",
      "source": [
        "str=input(\"enter a string:\")\n",
        "words=str.split()\n",
        "print(len(words))"
      ],
      "metadata": {
        "colab": {
          "base_uri": "https://localhost:8080/"
        },
        "id": "3Lc5M5u0R319",
        "outputId": "94840db9-a4f6-4504-a9ec-c36476776328"
      },
      "execution_count": 23,
      "outputs": [
        {
          "output_type": "stream",
          "name": "stdout",
          "text": [
            "enter a string:i am a good girl\n",
            "5\n"
          ]
        }
      ]
    },
    {
      "cell_type": "code",
      "source": [
        "sentence = input(\"Enter a sentence: \")\n",
        "words = sentence.split()\n",
        "longest = max(words, key=len)\n",
        "print(\"Longest word:\", longest)\n"
      ],
      "metadata": {
        "colab": {
          "base_uri": "https://localhost:8080/"
        },
        "id": "xmrRTaeQUXox",
        "outputId": "2a1006d7-35aa-4fab-81c5-57c3b4af004c"
      },
      "execution_count": 24,
      "outputs": [
        {
          "output_type": "stream",
          "name": "stdout",
          "text": [
            "Enter a sentence: harshitha is also known as kimmi\n",
            "Longest word: harshitha\n"
          ]
        }
      ]
    },
    {
      "cell_type": "code",
      "source": [
        "import string\n",
        "\n",
        "password = input(\"Enter your password: \")\n",
        "\n",
        "has_digit = any(char.isdigit() for char in password)\n",
        "has_upper = any(char.isupper() for char in password)\n",
        "has_lower = any(char.islower() for char in password)\n",
        "has_special = any(char in string.punctuation for char in password)\n",
        "\n",
        "if len(password) >= 8 and has_digit and has_upper and has_lower and has_special:\n",
        "    print(\"Strong password ✅\")\n",
        "else:\n",
        "    print(\"Weak password ❌\")\n"
      ],
      "metadata": {
        "colab": {
          "base_uri": "https://localhost:8080/"
        },
        "id": "0RasYnnIUjtq",
        "outputId": "52860098-57b3-4572-e937-58c769cd98d0"
      },
      "execution_count": 25,
      "outputs": [
        {
          "output_type": "stream",
          "name": "stdout",
          "text": [
            "Enter your password: Kimmi@2005\n",
            "Strong password ✅\n"
          ]
        }
      ]
    },
    {
      "cell_type": "code",
      "source": [
        "text = input(\"Enter a string: \")\n",
        "result = \"\"\n",
        "\n",
        "for char in text:\n",
        "    if char not in result:\n",
        "        result += char\n",
        "\n",
        "print(\"Without duplicates:\", result)\n"
      ],
      "metadata": {
        "colab": {
          "base_uri": "https://localhost:8080/"
        },
        "id": "kQKLW3lgUyKW",
        "outputId": "cff8f497-6c81-4996-c1d7-d061df0f95d1"
      },
      "execution_count": 26,
      "outputs": [
        {
          "output_type": "stream",
          "name": "stdout",
          "text": [
            "Enter a string: kimmi\n",
            "Without duplicates: kim\n"
          ]
        }
      ]
    },
    {
      "cell_type": "code",
      "source": [
        "str1 = input(\"Enter first string: \").replace(\" \", \"\").lower()\n",
        "str2 = input(\"Enter second string: \").replace(\" \", \"\").lower()\n",
        "\n",
        "if sorted(str1) == sorted(str2):\n",
        "    print(\"Yes, they're anagrams ✅\")\n",
        "else:\n",
        "    print(\"No, they're not anagrams ❌\")\n"
      ],
      "metadata": {
        "colab": {
          "base_uri": "https://localhost:8080/"
        },
        "id": "J_XKcN3QVJ-x",
        "outputId": "cff94b1e-fc20-425c-872a-19c026729480"
      },
      "execution_count": 27,
      "outputs": [
        {
          "output_type": "stream",
          "name": "stdout",
          "text": [
            "Enter first string: silent\n",
            "Enter second string: listen\n",
            "Yes, they're anagrams ✅\n"
          ]
        }
      ]
    },
    {
      "cell_type": "code",
      "source": [
        "text = input(\"Enter a string: \")\n",
        "start = int(input(\"Enter start index: \"))\n",
        "end = int(input(\"Enter end index: \"))\n",
        "\n",
        "if 0 <= start < len(text) and 0 < end <= len(text) and start < end:\n",
        "    print(\"Substring:\", text[start:end])\n",
        "else:\n",
        "    print(\"Invalid indexes ❌\")\n"
      ],
      "metadata": {
        "colab": {
          "base_uri": "https://localhost:8080/"
        },
        "id": "zVal1ESlVfqr",
        "outputId": "880f0549-8673-470e-c932-c049651c87e8"
      },
      "execution_count": 28,
      "outputs": [
        {
          "output_type": "stream",
          "name": "stdout",
          "text": [
            "Enter a string: ha\n",
            "Enter start index: 0\n",
            "Enter end index: 3\n",
            "Invalid indexes ❌\n"
          ]
        }
      ]
    }
  ]
}