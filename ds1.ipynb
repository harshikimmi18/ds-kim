{
  "nbformat": 4,
  "nbformat_minor": 0,
  "metadata": {
    "colab": {
      "provenance": []
    },
    "kernelspec": {
      "name": "python3",
      "display_name": "Python 3"
    },
    "language_info": {
      "name": "python"
    }
  },
  "cells": [
    {
      "cell_type": "code",
      "execution_count": 1,
      "metadata": {
        "colab": {
          "base_uri": "https://localhost:8080/"
        },
        "id": "gIo-5BTvtxdq",
        "outputId": "277344a6-dfc8-40c8-f4a1-c9b7b02a8696"
      },
      "outputs": [
        {
          "output_type": "stream",
          "name": "stdout",
          "text": [
            "enter the number 1:5\n",
            "enter the number 2:2\n",
            "7\n"
          ]
        }
      ],
      "source": [
        "num1 = int(input(\"enter the number 1:\"))\n",
        "num2 = int(input(\"enter the number 2:\"))\n",
        "sum = num1+num2\n",
        "print (sum)"
      ]
    },
    {
      "cell_type": "code",
      "source": [
        "side = int(input(\"enter the side :\"))\n",
        "Area = side*side\n",
        "print(Area)"
      ],
      "metadata": {
        "colab": {
          "base_uri": "https://localhost:8080/"
        },
        "id": "u72b9rILIXVS",
        "outputId": "72337aa9-3028-48a2-bdd8-c429b8af85cb"
      },
      "execution_count": 2,
      "outputs": [
        {
          "output_type": "stream",
          "name": "stdout",
          "text": [
            "enter the side :2\n",
            "4\n"
          ]
        }
      ]
    },
    {
      "cell_type": "code",
      "source": [
        "num1 = float (input(\"enter the number 1:\"))\n",
        "num2 = float (input(\"enter the number 2:\"))\n",
        "Avg=(num1+num2)/2\n",
        "print(Avg)"
      ],
      "metadata": {
        "colab": {
          "base_uri": "https://localhost:8080/"
        },
        "id": "mwPdXDycIzST",
        "outputId": "106d36b6-32cd-4c4a-bb66-2d7bcccc8a7e"
      },
      "execution_count": 3,
      "outputs": [
        {
          "output_type": "stream",
          "name": "stdout",
          "text": [
            "enter the number 1:2\n",
            "enter the number 2:5\n",
            "3.5\n"
          ]
        }
      ]
    },
    {
      "cell_type": "code",
      "source": [
        "num1 = int(input(\"enter the number 1:\"))\n",
        "num2 = int(input(\"enter the number 2:\"))\n",
        "print(num1>=num2)"
      ],
      "metadata": {
        "colab": {
          "base_uri": "https://localhost:8080/"
        },
        "id": "Lt3PY-yOJfbF",
        "outputId": "8c6592bb-abba-4b42-db38-11654fb3228f"
      },
      "execution_count": 5,
      "outputs": [
        {
          "output_type": "stream",
          "name": "stdout",
          "text": [
            "enter the number 1:2\n",
            "enter the number 2:5\n",
            "False\n"
          ]
        }
      ]
    },
    {
      "cell_type": "code",
      "source": [
        "name = input(\"enter your name:\")\n",
        "age = int(input(\"enter your age:\"))\n",
        "print (\"Hello\",name,\"!! you are\",age,\"years old\")"
      ],
      "metadata": {
        "colab": {
          "base_uri": "https://localhost:8080/"
        },
        "id": "h0oHbm-8Kk_C",
        "outputId": "4917e397-6341-428c-abf3-7108301fc2de"
      },
      "execution_count": 8,
      "outputs": [
        {
          "output_type": "stream",
          "name": "stdout",
          "text": [
            "enter your name:kimmi\n",
            "enter your age:18\n",
            "Hello kimmi !! you are 18 years old\n"
          ]
        }
      ]
    },
    {
      "cell_type": "code",
      "source": [
        "current_age = int(input(\"enter your age:\"))\n",
        "x=age+5\n",
        "print(\"in 5 years you'll be\",x,\"years old\")"
      ],
      "metadata": {
        "colab": {
          "base_uri": "https://localhost:8080/"
        },
        "id": "8CUOfi5uMoeT",
        "outputId": "09de6530-f97c-4701-93de-e8b41e65a36b"
      },
      "execution_count": 10,
      "outputs": [
        {
          "output_type": "stream",
          "name": "stdout",
          "text": [
            "enter your age:18\n",
            "in 5 years you'll be 23 years old\n"
          ]
        }
      ]
    },
    {
      "cell_type": "code",
      "source": [
        "C = int(input(\"enter the degrees in celsius:\"))\n",
        "F = (C * 9/5)+32\n",
        "print(\"The result in farenhiets is\",F,)"
      ],
      "metadata": {
        "colab": {
          "base_uri": "https://localhost:8080/"
        },
        "id": "439rqWOCNqVd",
        "outputId": "27519475-b7cf-4914-8b0c-fd77e05eb368"
      },
      "execution_count": 11,
      "outputs": [
        {
          "output_type": "stream",
          "name": "stdout",
          "text": [
            "enter the degrees in celsius:18\n",
            "The result in farenhiets is 64.4\n"
          ]
        }
      ]
    },
    {
      "cell_type": "code",
      "source": [
        "R = float(input(\"enter the radius:\"))\n",
        "pi = 3.14\n",
        "Area = pi * R**2\n",
        "print(\"area of circle is\",Area,)\n"
      ],
      "metadata": {
        "colab": {
          "base_uri": "https://localhost:8080/"
        },
        "id": "7qnLN5smObF7",
        "outputId": "ddbbaa5e-3948-42df-bd3a-e5c234f8befb"
      },
      "execution_count": 16,
      "outputs": [
        {
          "output_type": "stream",
          "name": "stdout",
          "text": [
            "enter the radius:2\n",
            "area of circle is 12.56\n"
          ]
        }
      ]
    },
    {
      "cell_type": "code",
      "source": [
        "Age = int(input(\"enter the age:\"))\n",
        "if Age >= 18:\n",
        "  print(\"you're eligible to vote!!\");\n",
        "else:\n",
        "    print(\"you're not eligible.\");\n",
        "\n"
      ],
      "metadata": {
        "colab": {
          "base_uri": "https://localhost:8080/"
        },
        "id": "psQPUH-4Qg_a",
        "outputId": "824d9432-58b7-4669-930a-3c1b5284ae32"
      },
      "execution_count": 23,
      "outputs": [
        {
          "output_type": "stream",
          "name": "stdout",
          "text": [
            "enter the age:3\n",
            "you're not eligible.\n"
          ]
        }
      ]
    },
    {
      "cell_type": "code",
      "source": [
        "number = int(input(\"enter the number:\"))\n",
        "if number%2==0:\n",
        "  print(\"even\")\n",
        "else:\n",
        "  print(\"odd\")"
      ],
      "metadata": {
        "colab": {
          "base_uri": "https://localhost:8080/"
        },
        "id": "tlD4P_8aSjuS",
        "outputId": "3550d0b6-5230-4006-f165-e9b37ca444c2"
      },
      "execution_count": 25,
      "outputs": [
        {
          "output_type": "stream",
          "name": "stdout",
          "text": [
            "enter the number:5\n",
            "odd\n"
          ]
        }
      ]
    },
    {
      "cell_type": "code",
      "source": [
        "name=\"Harshitha\"\n",
        "peru=input(\"enter the string:\")\n",
        "if name==peru:\n",
        "  print(\"Hey Harshitha!! i love youuu\")\n",
        "else:\n",
        "  print(\"string doesn't match with the name\")"
      ],
      "metadata": {
        "colab": {
          "base_uri": "https://localhost:8080/"
        },
        "id": "9ud47cDMT0ju",
        "outputId": "7325bffe-37d7-4cef-ec05-3c88e639274d"
      },
      "execution_count": 3,
      "outputs": [
        {
          "output_type": "stream",
          "name": "stdout",
          "text": [
            "enter the string:Harshitha\n",
            "Hey Harshitha!! i love youuu\n"
          ]
        }
      ]
    },
    {
      "cell_type": "code",
      "source": [
        "user_input_value=input(\"enter anything:\")\n",
        "print(type(user_input_value))"
      ],
      "metadata": {
        "colab": {
          "base_uri": "https://localhost:8080/"
        },
        "id": "TpK8oCFUxIyb",
        "outputId": "8d4153fe-77ca-4d04-a21c-e742ad8ad2a6"
      },
      "execution_count": 20,
      "outputs": [
        {
          "output_type": "stream",
          "name": "stdout",
          "text": [
            "enter anything:kimmi\n",
            "<class 'str'>\n"
          ]
        }
      ]
    },
    {
      "cell_type": "code",
      "source": [
        "password=(input(\"enter your password:\"))\n",
        "if password==\"python123\":\n",
        "  print(\"access granted\")\n",
        "else:\n",
        "  print(\"access declined\")\n"
      ],
      "metadata": {
        "colab": {
          "base_uri": "https://localhost:8080/"
        },
        "id": "K9x1ZyciyciI",
        "outputId": "cdf042af-7adf-49b5-84ad-732d176dbe9b"
      },
      "execution_count": 23,
      "outputs": [
        {
          "output_type": "stream",
          "name": "stdout",
          "text": [
            "enter your password:python123\n",
            "access granted\n"
          ]
        }
      ]
    },
    {
      "cell_type": "code",
      "source": [
        "marks = int(input(\"enter your marks:\"))\n",
        "if marks>=90:\n",
        "  print(\"Yayy!! you passed with Grade A\")\n",
        "elif marks>=70:\n",
        "  print(\"you passed with grade B\")\n",
        "elif marks>=50:\n",
        "  print(\"you passed with grade C\")\n",
        "else:\n",
        "  print(\"you have failed in this exam!!\")"
      ],
      "metadata": {
        "colab": {
          "base_uri": "https://localhost:8080/"
        },
        "id": "3kdqwLUrzM8N",
        "outputId": "12d91e1b-4d32-45e2-b0d2-92cedc652e13"
      },
      "execution_count": 27,
      "outputs": [
        {
          "output_type": "stream",
          "name": "stdout",
          "text": [
            "enter your marks:98\n",
            "Yayy!! you passed with Grade A\n"
          ]
        }
      ]
    }
  ]
}