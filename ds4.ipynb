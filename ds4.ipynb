{
  "nbformat": 4,
  "nbformat_minor": 0,
  "metadata": {
    "colab": {
      "provenance": []
    },
    "kernelspec": {
      "name": "python3",
      "display_name": "Python 3"
    },
    "language_info": {
      "name": "python"
    }
  },
  "cells": [
    {
      "cell_type": "code",
      "execution_count": null,
      "metadata": {
        "colab": {
          "base_uri": "https://localhost:8080/"
        },
        "id": "gIo-5BTvtxdq",
        "outputId": "277344a6-dfc8-40c8-f4a1-c9b7b02a8696"
      },
      "outputs": [
        {
          "output_type": "stream",
          "name": "stdout",
          "text": [
            "enter the number 1:5\n",
            "enter the number 2:2\n",
            "7\n"
          ]
        }
      ],
      "source": [
        "num1 = int(input(\"enter the number 1:\"))\n",
        "num2 = int(input(\"enter the number 2:\"))\n",
        "sum = num1+num2\n",
        "print (sum)"
      ]
    },
    {
      "cell_type": "code",
      "source": [
        "side = int(input(\"enter the side :\"))\n",
        "Area = side*side\n",
        "print(Area)"
      ],
      "metadata": {
        "colab": {
          "base_uri": "https://localhost:8080/"
        },
        "id": "u72b9rILIXVS",
        "outputId": "72337aa9-3028-48a2-bdd8-c429b8af85cb"
      },
      "execution_count": null,
      "outputs": [
        {
          "output_type": "stream",
          "name": "stdout",
          "text": [
            "enter the side :2\n",
            "4\n"
          ]
        }
      ]
    },
    {
      "cell_type": "code",
      "source": [
        "num1 = float (input(\"enter the number 1:\"))\n",
        "num2 = float (input(\"enter the number 2:\"))\n",
        "Avg=(num1+num2)/2\n",
        "print(Avg)"
      ],
      "metadata": {
        "colab": {
          "base_uri": "https://localhost:8080/"
        },
        "id": "mwPdXDycIzST",
        "outputId": "106d36b6-32cd-4c4a-bb66-2d7bcccc8a7e"
      },
      "execution_count": null,
      "outputs": [
        {
          "output_type": "stream",
          "name": "stdout",
          "text": [
            "enter the number 1:2\n",
            "enter the number 2:5\n",
            "3.5\n"
          ]
        }
      ]
    },
    {
      "cell_type": "code",
      "source": [
        "num1 = int(input(\"enter the number 1:\"))\n",
        "num2 = int(input(\"enter the number 2:\"))\n",
        "print(num1>=num2)"
      ],
      "metadata": {
        "colab": {
          "base_uri": "https://localhost:8080/"
        },
        "id": "Lt3PY-yOJfbF",
        "outputId": "8c6592bb-abba-4b42-db38-11654fb3228f"
      },
      "execution_count": null,
      "outputs": [
        {
          "output_type": "stream",
          "name": "stdout",
          "text": [
            "enter the number 1:2\n",
            "enter the number 2:5\n",
            "False\n"
          ]
        }
      ]
    },
    {
      "cell_type": "code",
      "source": [
        "name = input(\"enter your name:\")\n",
        "age = int(input(\"enter your age:\"))\n",
        "print (\"Hello\",name,\"!! you are\",age,\"years old\")"
      ],
      "metadata": {
        "colab": {
          "base_uri": "https://localhost:8080/"
        },
        "id": "h0oHbm-8Kk_C",
        "outputId": "4917e397-6341-428c-abf3-7108301fc2de"
      },
      "execution_count": null,
      "outputs": [
        {
          "output_type": "stream",
          "name": "stdout",
          "text": [
            "enter your name:kimmi\n",
            "enter your age:18\n",
            "Hello kimmi !! you are 18 years old\n"
          ]
        }
      ]
    },
    {
      "cell_type": "code",
      "source": [
        "current_age = int(input(\"enter your age:\"))\n",
        "x=age+5\n",
        "print(\"in 5 years you'll be\",x,\"years old\")"
      ],
      "metadata": {
        "colab": {
          "base_uri": "https://localhost:8080/"
        },
        "id": "8CUOfi5uMoeT",
        "outputId": "09de6530-f97c-4701-93de-e8b41e65a36b"
      },
      "execution_count": null,
      "outputs": [
        {
          "output_type": "stream",
          "name": "stdout",
          "text": [
            "enter your age:18\n",
            "in 5 years you'll be 23 years old\n"
          ]
        }
      ]
    },
    {
      "cell_type": "code",
      "source": [
        "C = int(input(\"enter the degrees in celsius:\"))\n",
        "F = (C * 9/5)+32\n",
        "print(\"The result in farenhiets is\",F,)"
      ],
      "metadata": {
        "colab": {
          "base_uri": "https://localhost:8080/"
        },
        "id": "439rqWOCNqVd",
        "outputId": "27519475-b7cf-4914-8b0c-fd77e05eb368"
      },
      "execution_count": null,
      "outputs": [
        {
          "output_type": "stream",
          "name": "stdout",
          "text": [
            "enter the degrees in celsius:18\n",
            "The result in farenhiets is 64.4\n"
          ]
        }
      ]
    },
    {
      "cell_type": "code",
      "source": [
        "R = float(input(\"enter the radius:\"))\n",
        "pi = 3.14\n",
        "Area = pi * R**2\n",
        "print(\"area of circle is\",Area,)\n"
      ],
      "metadata": {
        "colab": {
          "base_uri": "https://localhost:8080/"
        },
        "id": "7qnLN5smObF7",
        "outputId": "ddbbaa5e-3948-42df-bd3a-e5c234f8befb"
      },
      "execution_count": null,
      "outputs": [
        {
          "output_type": "stream",
          "name": "stdout",
          "text": [
            "enter the radius:2\n",
            "area of circle is 12.56\n"
          ]
        }
      ]
    },
    {
      "cell_type": "code",
      "source": [
        "Age = int(input(\"enter the age:\"))\n",
        "if Age >= 18:\n",
        "  print(\"you're eligible to vote!!\");\n",
        "else:\n",
        "    print(\"you're not eligible.\");\n",
        "\n"
      ],
      "metadata": {
        "colab": {
          "base_uri": "https://localhost:8080/"
        },
        "id": "psQPUH-4Qg_a",
        "outputId": "824d9432-58b7-4669-930a-3c1b5284ae32"
      },
      "execution_count": null,
      "outputs": [
        {
          "output_type": "stream",
          "name": "stdout",
          "text": [
            "enter the age:3\n",
            "you're not eligible.\n"
          ]
        }
      ]
    },
    {
      "cell_type": "code",
      "source": [
        "number = int(input(\"enter the number:\"))\n",
        "if number%2==0:\n",
        "  print(\"even\")\n",
        "else:\n",
        "  print(\"odd\")"
      ],
      "metadata": {
        "colab": {
          "base_uri": "https://localhost:8080/"
        },
        "id": "tlD4P_8aSjuS",
        "outputId": "3550d0b6-5230-4006-f165-e9b37ca444c2"
      },
      "execution_count": null,
      "outputs": [
        {
          "output_type": "stream",
          "name": "stdout",
          "text": [
            "enter the number:5\n",
            "odd\n"
          ]
        }
      ]
    },
    {
      "cell_type": "code",
      "source": [
        "name=\"Harshitha\"\n",
        "peru=input(\"enter the string:\")\n",
        "if name==peru:\n",
        "  print(\"Hey Harshitha!! i love youuu\")\n",
        "else:\n",
        "  print(\"string doesn't match with the name\")"
      ],
      "metadata": {
        "colab": {
          "base_uri": "https://localhost:8080/"
        },
        "id": "9ud47cDMT0ju",
        "outputId": "7325bffe-37d7-4cef-ec05-3c88e639274d"
      },
      "execution_count": null,
      "outputs": [
        {
          "output_type": "stream",
          "name": "stdout",
          "text": [
            "enter the string:Harshitha\n",
            "Hey Harshitha!! i love youuu\n"
          ]
        }
      ]
    },
    {
      "cell_type": "code",
      "source": [
        "user_input_value=input(\"enter anything:\")\n",
        "print(type(user_input_value))"
      ],
      "metadata": {
        "colab": {
          "base_uri": "https://localhost:8080/"
        },
        "id": "TpK8oCFUxIyb",
        "outputId": "8d4153fe-77ca-4d04-a21c-e742ad8ad2a6"
      },
      "execution_count": null,
      "outputs": [
        {
          "output_type": "stream",
          "name": "stdout",
          "text": [
            "enter anything:kimmi\n",
            "<class 'str'>\n"
          ]
        }
      ]
    },
    {
      "cell_type": "code",
      "source": [
        "password=(input(\"enter your password:\"))\n",
        "if password==\"python123\":\n",
        "  print(\"access granted\")\n",
        "else:\n",
        "  print(\"access declined\")\n"
      ],
      "metadata": {
        "colab": {
          "base_uri": "https://localhost:8080/"
        },
        "id": "K9x1ZyciyciI",
        "outputId": "cdf042af-7adf-49b5-84ad-732d176dbe9b"
      },
      "execution_count": null,
      "outputs": [
        {
          "output_type": "stream",
          "name": "stdout",
          "text": [
            "enter your password:python123\n",
            "access granted\n"
          ]
        }
      ]
    },
    {
      "cell_type": "code",
      "source": [
        "marks = int(input(\"enter your marks:\"))\n",
        "if marks>=90:\n",
        "  print(\"Yayy!! you passed with Grade A\")\n",
        "elif marks>=70:\n",
        "  print(\"you passed with grade B\")\n",
        "elif marks>=50:\n",
        "  print(\"you passed with grade C\")\n",
        "else:\n",
        "  print(\"you have failed in this exam!!\")"
      ],
      "metadata": {
        "colab": {
          "base_uri": "https://localhost:8080/"
        },
        "id": "3kdqwLUrzM8N",
        "outputId": "12d91e1b-4d32-45e2-b0d2-92cedc652e13"
      },
      "execution_count": null,
      "outputs": [
        {
          "output_type": "stream",
          "name": "stdout",
          "text": [
            "enter your marks:98\n",
            "Yayy!! you passed with Grade A\n"
          ]
        }
      ]
    },
    {
      "cell_type": "code",
      "source": [
        "name=input(\"enter the name:\")\n",
        "print(len(name))"
      ],
      "metadata": {
        "colab": {
          "base_uri": "https://localhost:8080/"
        },
        "id": "Tua32YzcJMyB",
        "outputId": "9d62e5dc-f1a9-4ebb-d5c5-a8e12b48f61a"
      },
      "execution_count": null,
      "outputs": [
        {
          "output_type": "stream",
          "name": "stdout",
          "text": [
            "enter the name:kimmi\n",
            "5\n"
          ]
        }
      ]
    },
    {
      "cell_type": "code",
      "source": [
        "str=\" i am a gold $digger $ of $29.99 dollars $\"\n",
        "print(str.count(\"$\"))"
      ],
      "metadata": {
        "colab": {
          "base_uri": "https://localhost:8080/"
        },
        "id": "isXEAnNVJh46",
        "outputId": "a3b267d2-784e-4ac7-b35d-6aada49a436f"
      },
      "execution_count": null,
      "outputs": [
        {
          "output_type": "stream",
          "name": "stdout",
          "text": [
            "4\n"
          ]
        }
      ]
    },
    {
      "cell_type": "code",
      "source": [
        "num=int(input(\"enter a number:\"))\n",
        "if num%2==0:\n",
        "  print(\"EVEN\")\n",
        "else:\n",
        "  print(\"odd\")"
      ],
      "metadata": {
        "colab": {
          "base_uri": "https://localhost:8080/"
        },
        "id": "nbypu5LLKGtH",
        "outputId": "77f6e774-d0c5-4107-eddc-bfeba2ec6d9b"
      },
      "execution_count": null,
      "outputs": [
        {
          "output_type": "stream",
          "name": "stdout",
          "text": [
            "enter a number:5\n",
            "odd\n"
          ]
        }
      ]
    },
    {
      "cell_type": "code",
      "source": [
        "num1=int(input(\"enter the number1:\"))\n",
        "num2=int(input(\"enter the number2:\"))\n",
        "num3=int(input(\"enter the number3:\"))\n",
        "if(num1>=num2 & num1>num3):\n",
        "  print(\"num1 is the largest\",num1)\n",
        "elif(num2>num3):\n",
        "  print(\"num2 is the largest\",num2)\n",
        "else:\n",
        "  print(\"num3 is the largest\",num3)\n"
      ],
      "metadata": {
        "colab": {
          "base_uri": "https://localhost:8080/"
        },
        "id": "OnNI0gzLKYjy",
        "outputId": "fe7f4dc0-1d5e-4f0f-d3ae-673bee713b0e"
      },
      "execution_count": null,
      "outputs": [
        {
          "output_type": "stream",
          "name": "stdout",
          "text": [
            "enter the number1:2\n",
            "enter the number2:8\n",
            "enter the number3:5\n",
            "num2 is the largest 8\n"
          ]
        }
      ]
    },
    {
      "cell_type": "code",
      "source": [
        "num=int(input(\"enter the number:\"))\n",
        "if(num%7==0):\n",
        "  print(\"is a multiple\")\n",
        "else:\n",
        "  print(\"not a multiple\")\n"
      ],
      "metadata": {
        "colab": {
          "base_uri": "https://localhost:8080/"
        },
        "id": "wHB_fCXxLdLB",
        "outputId": "bace87f9-a26d-4d71-b0ed-7437c6fb7277"
      },
      "execution_count": null,
      "outputs": [
        {
          "output_type": "stream",
          "name": "stdout",
          "text": [
            "enter the number:5\n",
            "not a multiple\n"
          ]
        }
      ]
    },
    {
      "cell_type": "code",
      "source": [
        "str=input(\"enter a string:\")\n",
        "palindrome=str[::-1]\n",
        "if(palindrome==str):\n",
        "  print(\"its a palindrome\")\n",
        "else:\n",
        "  print(\"no,its not a palindrome\")"
      ],
      "metadata": {
        "colab": {
          "base_uri": "https://localhost:8080/"
        },
        "id": "Oqsvd0TkMlwF",
        "outputId": "57979780-c53e-4c71-872b-88faa3a356ff"
      },
      "execution_count": null,
      "outputs": [
        {
          "output_type": "stream",
          "name": "stdout",
          "text": [
            "enter a string:madam\n",
            "no,its not a palindrome\n"
          ]
        }
      ]
    },
    {
      "cell_type": "code",
      "source": [
        "str=input(\"enter a string:\")\n",
        "vowels=\"aeiouAEIOU\"\n",
        "count=0\n",
        "for char in str:\n",
        "  if char in vowels:\n",
        "    count +=1\n",
        "print(\"number of vowels in string is \",count)\n"
      ],
      "metadata": {
        "colab": {
          "base_uri": "https://localhost:8080/"
        },
        "id": "bmTJ-WoIOMbg",
        "outputId": "c34803db-1e50-4af3-e5bf-a2feef7bded5"
      },
      "execution_count": null,
      "outputs": [
        {
          "output_type": "stream",
          "name": "stdout",
          "text": [
            "enter a string:i am a good girl\n",
            "number of vowels in string is  6\n"
          ]
        }
      ]
    },
    {
      "cell_type": "code",
      "source": [
        "str=input(\"enter a string:\")\n",
        "words=str.split()\n",
        "print(\"the frequency in string is\",len(words))"
      ],
      "metadata": {
        "colab": {
          "base_uri": "https://localhost:8080/"
        },
        "id": "NehObA1xQAj8",
        "outputId": "cc844d39-03ce-4785-a5de-b3a138c6139a"
      },
      "execution_count": null,
      "outputs": [
        {
          "output_type": "stream",
          "name": "stdout",
          "text": [
            "enter a string:kimmi is a good girl\n",
            "the frequency in string is 5\n"
          ]
        }
      ]
    },
    {
      "cell_type": "code",
      "source": [
        "str=input(\"enter a string:\")\n",
        "print(str.swapcase())"
      ],
      "metadata": {
        "colab": {
          "base_uri": "https://localhost:8080/"
        },
        "id": "C0QFQNlbRsSt",
        "outputId": "de26f0ba-df05-46bb-8157-c90a94e4baa3"
      },
      "execution_count": null,
      "outputs": [
        {
          "output_type": "stream",
          "name": "stdout",
          "text": [
            "enter a string:Kimmi\n",
            "kIMMI\n"
          ]
        }
      ]
    },
    {
      "cell_type": "code",
      "source": [
        "str=input(\"enter a string:\")\n",
        "words=str.split()\n",
        "print(len(words))"
      ],
      "metadata": {
        "colab": {
          "base_uri": "https://localhost:8080/"
        },
        "id": "3Lc5M5u0R319",
        "outputId": "94840db9-a4f6-4504-a9ec-c36476776328"
      },
      "execution_count": null,
      "outputs": [
        {
          "output_type": "stream",
          "name": "stdout",
          "text": [
            "enter a string:i am a good girl\n",
            "5\n"
          ]
        }
      ]
    },
    {
      "cell_type": "code",
      "source": [
        "sentence = input(\"Enter a sentence: \")\n",
        "words = sentence.split()\n",
        "longest = max(words, key=len)\n",
        "print(\"Longest word:\", longest)\n"
      ],
      "metadata": {
        "colab": {
          "base_uri": "https://localhost:8080/"
        },
        "id": "xmrRTaeQUXox",
        "outputId": "2a1006d7-35aa-4fab-81c5-57c3b4af004c"
      },
      "execution_count": null,
      "outputs": [
        {
          "output_type": "stream",
          "name": "stdout",
          "text": [
            "Enter a sentence: harshitha is also known as kimmi\n",
            "Longest word: harshitha\n"
          ]
        }
      ]
    },
    {
      "cell_type": "code",
      "source": [
        "import string\n",
        "\n",
        "password = input(\"Enter your password: \")\n",
        "\n",
        "has_digit = any(char.isdigit() for char in password)\n",
        "has_upper = any(char.isupper() for char in password)\n",
        "has_lower = any(char.islower() for char in password)\n",
        "has_special = any(char in string.punctuation for char in password)\n",
        "\n",
        "if len(password) >= 8 and has_digit and has_upper and has_lower and has_special:\n",
        "    print(\"Strong password ✅\")\n",
        "else:\n",
        "    print(\"Weak password ❌\")\n"
      ],
      "metadata": {
        "colab": {
          "base_uri": "https://localhost:8080/"
        },
        "id": "0RasYnnIUjtq",
        "outputId": "52860098-57b3-4572-e937-58c769cd98d0"
      },
      "execution_count": null,
      "outputs": [
        {
          "output_type": "stream",
          "name": "stdout",
          "text": [
            "Enter your password: Kimmi@2005\n",
            "Strong password ✅\n"
          ]
        }
      ]
    },
    {
      "cell_type": "code",
      "source": [
        "text = input(\"Enter a string: \")\n",
        "result = \"\"\n",
        "\n",
        "for char in text:\n",
        "    if char not in result:\n",
        "        result += char\n",
        "\n",
        "print(\"Without duplicates:\", result)\n"
      ],
      "metadata": {
        "colab": {
          "base_uri": "https://localhost:8080/"
        },
        "id": "kQKLW3lgUyKW",
        "outputId": "cff8f497-6c81-4996-c1d7-d061df0f95d1"
      },
      "execution_count": null,
      "outputs": [
        {
          "output_type": "stream",
          "name": "stdout",
          "text": [
            "Enter a string: kimmi\n",
            "Without duplicates: kim\n"
          ]
        }
      ]
    },
    {
      "cell_type": "code",
      "source": [
        "str1 = input(\"Enter first string: \").replace(\" \", \"\").lower()\n",
        "str2 = input(\"Enter second string: \").replace(\" \", \"\").lower()\n",
        "\n",
        "if sorted(str1) == sorted(str2):\n",
        "    print(\"Yes, they're anagrams ✅\")\n",
        "else:\n",
        "    print(\"No, they're not anagrams ❌\")\n"
      ],
      "metadata": {
        "colab": {
          "base_uri": "https://localhost:8080/"
        },
        "id": "J_XKcN3QVJ-x",
        "outputId": "cff94b1e-fc20-425c-872a-19c026729480"
      },
      "execution_count": null,
      "outputs": [
        {
          "output_type": "stream",
          "name": "stdout",
          "text": [
            "Enter first string: silent\n",
            "Enter second string: listen\n",
            "Yes, they're anagrams ✅\n"
          ]
        }
      ]
    },
    {
      "cell_type": "code",
      "source": [
        "text = input(\"Enter a string: \")\n",
        "start = int(input(\"Enter start index: \"))\n",
        "end = int(input(\"Enter end index: \"))\n",
        "\n",
        "if 0 <= start < len(text) and 0 < end <= len(text) and start < end:\n",
        "    print(\"Substring:\", text[start:end])\n",
        "else:\n",
        "    print(\"Invalid indexes ❌\")\n"
      ],
      "metadata": {
        "colab": {
          "base_uri": "https://localhost:8080/"
        },
        "id": "zVal1ESlVfqr",
        "outputId": "880f0549-8673-470e-c932-c049651c87e8"
      },
      "execution_count": null,
      "outputs": [
        {
          "output_type": "stream",
          "name": "stdout",
          "text": [
            "Enter a string: ha\n",
            "Enter start index: 0\n",
            "Enter end index: 3\n",
            "Invalid indexes ❌\n"
          ]
        }
      ]
    },
    {
      "cell_type": "code",
      "source": [
        "movies=[]\n",
        "movies.append(input(\"enter fav movie1:\"))\n",
        "movies.append(input(\"enter fav movie2:\"))\n",
        "movies.append(input(\"enter fav movie2:\"))\n",
        "print(movies)"
      ],
      "metadata": {
        "colab": {
          "base_uri": "https://localhost:8080/"
        },
        "id": "Bm95Gis4dcA-",
        "outputId": "d95098f2-b1e0-4ef7-eea3-fcc5144145d5"
      },
      "execution_count": null,
      "outputs": [
        {
          "output_type": "stream",
          "name": "stdout",
          "text": [
            "enter fav movie1:RRR\n",
            "enter fav movie2:aravinda sametha\n",
            "enter fav movie2:devara\n",
            "['RRR', 'aravinda sametha', 'devara']\n"
          ]
        }
      ]
    },
    {
      "cell_type": "code",
      "source": [
        "list =[\"1\",\"2\",\"1\"]\n",
        "copy_list=list.copy()\n",
        "if(copy_list == list):\n",
        "  print(\"its a palindrome\")\n",
        "else:\n",
        "  print(\"its not a palindrome\")"
      ],
      "metadata": {
        "colab": {
          "base_uri": "https://localhost:8080/"
        },
        "id": "Xj1IdkFNd42W",
        "outputId": "20bc43c5-5a07-416b-8e18-cd29d30692c3"
      },
      "execution_count": null,
      "outputs": [
        {
          "output_type": "stream",
          "name": "stdout",
          "text": [
            "its a palindrome\n"
          ]
        }
      ]
    },
    {
      "cell_type": "code",
      "source": [
        "tup = (\"A\",\"B\",\"A\",\"A\",\"B\",\"C\",\"D\")\n",
        "print(tup.count(\"A\"))"
      ],
      "metadata": {
        "colab": {
          "base_uri": "https://localhost:8080/"
        },
        "id": "1vNPz-5veQoh",
        "outputId": "19fad97b-75d2-4363-b6bd-7ceefca9ea7b"
      },
      "execution_count": null,
      "outputs": [
        {
          "output_type": "stream",
          "name": "stdout",
          "text": [
            "3\n"
          ]
        }
      ]
    },
    {
      "cell_type": "code",
      "source": [
        "list=[\"A\",\"B\",\"A\",\"A\",\"B\",\"C\",\"D\"]\n",
        "list.sort()\n",
        "print(list)"
      ],
      "metadata": {
        "colab": {
          "base_uri": "https://localhost:8080/"
        },
        "id": "tkUrvOoUf3Vk",
        "outputId": "d269532a-dc7b-49ed-ca38-1ff914c9d8dc"
      },
      "execution_count": null,
      "outputs": [
        {
          "output_type": "stream",
          "name": "stdout",
          "text": [
            "['A', 'A', 'A', 'B', 'B', 'C', 'D']\n"
          ]
        }
      ]
    },
    {
      "cell_type": "code",
      "source": [
        "foods=[\"biryani\",\"chicken\",\"sambar\",\"neyyi\",\"pappu\"]\n",
        "print(foods[2:len(foods)])"
      ],
      "metadata": {
        "colab": {
          "base_uri": "https://localhost:8080/"
        },
        "id": "OBAxbSvVggBa",
        "outputId": "ebe6c7d8-a009-4018-956b-2b2cd2b1259e"
      },
      "execution_count": null,
      "outputs": [
        {
          "output_type": "stream",
          "name": "stdout",
          "text": [
            "['sambar', 'neyyi', 'pappu']\n"
          ]
        }
      ]
    },
    {
      "cell_type": "code",
      "source": [
        "foods=[\"biryani\",\"chicken\",\"sambar\",\"neyyi\",\"pappu\"]\n",
        "foods.append(\"ice cream\")\n",
        "foods.insert(1,\"soup\")\n",
        "print(foods)"
      ],
      "metadata": {
        "colab": {
          "base_uri": "https://localhost:8080/"
        },
        "id": "HG_RSPZLg83O",
        "outputId": "9965c3f9-974a-413b-ded8-09af0e3eb018"
      },
      "execution_count": null,
      "outputs": [
        {
          "output_type": "stream",
          "name": "stdout",
          "text": [
            "['biryani', 'soup', 'chicken', 'sambar', 'neyyi', 'pappu', 'ice cream']\n"
          ]
        }
      ]
    },
    {
      "cell_type": "code",
      "source": [
        "foods=['biryani', 'soup', 'chicken', 'sambar', 'neyyi', 'pappu', 'ice cream']\n",
        "foods.remove(\"soup\")\n",
        "print(foods)"
      ],
      "metadata": {
        "colab": {
          "base_uri": "https://localhost:8080/"
        },
        "id": "tEIwWLBxhddC",
        "outputId": "afcd7852-8790-4f27-d034-3f5cdb40711a"
      },
      "execution_count": null,
      "outputs": [
        {
          "output_type": "stream",
          "name": "stdout",
          "text": [
            "['biryani', 'chicken', 'sambar', 'neyyi', 'pappu', 'ice cream']\n"
          ]
        }
      ]
    },
    {
      "cell_type": "code",
      "source": [
        "list = [1, 3, 5, 3, 7, 3]\n",
        "print(list.count(3))"
      ],
      "metadata": {
        "colab": {
          "base_uri": "https://localhost:8080/"
        },
        "id": "oDPbC0Gph5-P",
        "outputId": "5ebeefa4-45b2-4383-ee6b-4853b3e7364a"
      },
      "execution_count": null,
      "outputs": [
        {
          "output_type": "stream",
          "name": "stdout",
          "text": [
            "3\n"
          ]
        }
      ]
    },
    {
      "cell_type": "code",
      "source": [
        "list = [1, 3, 5, 3, 7, 3]\n",
        "updated_list=list[::-1]\n",
        "print(updated_list)"
      ],
      "metadata": {
        "colab": {
          "base_uri": "https://localhost:8080/"
        },
        "id": "zJDZxyfkiH_m",
        "outputId": "c977d3ce-e7b2-4740-d6e1-4e3d3ce2889e"
      },
      "execution_count": null,
      "outputs": [
        {
          "output_type": "stream",
          "name": "stdout",
          "text": [
            "[3, 7, 3, 5, 3, 1]\n"
          ]
        }
      ]
    },
    {
      "cell_type": "code",
      "source": [
        "list = [\"biryani\",\"food\",\"gandu\",\"icecream\",\"pizza\"]\n",
        "item = \"pizza\"\n",
        "if item in list:\n",
        "  print(\"its  in list\")"
      ],
      "metadata": {
        "colab": {
          "base_uri": "https://localhost:8080/"
        },
        "id": "7k_G6wtWiYyZ",
        "outputId": "1816617d-a01f-4889-e0a2-3c165a5edc03"
      },
      "execution_count": null,
      "outputs": [
        {
          "output_type": "stream",
          "name": "stdout",
          "text": [
            "its  in list\n"
          ]
        }
      ]
    },
    {
      "cell_type": "code",
      "source": [
        "list1 = [1, 2, 3]\n",
        "list2 = [4, 5, 6]\n",
        "\n",
        "merged_list = list1 + list2\n",
        "merged_list.sort()\n",
        "\n",
        "print(\"Merged and Sorted List:\", merged_list)\n"
      ],
      "metadata": {
        "colab": {
          "base_uri": "https://localhost:8080/"
        },
        "id": "fW8ThYXmjj-n",
        "outputId": "e268da2e-0e0a-4866-e867-2148f218004f"
      },
      "execution_count": null,
      "outputs": [
        {
          "output_type": "stream",
          "name": "stdout",
          "text": [
            "Merged and Sorted List: [1, 2, 3, 4, 5, 6]\n"
          ]
        }
      ]
    },
    {
      "cell_type": "code",
      "source": [
        "original_list = [1, 2, 2, 3, 4, 4, 5]\n",
        "unique_list = []\n",
        "\n",
        "for item in original_list:\n",
        "    if item not in unique_list:\n",
        "        unique_list.append(item)\n",
        "\n",
        "print(\"List without duplicates:\", unique_list)\n"
      ],
      "metadata": {
        "colab": {
          "base_uri": "https://localhost:8080/"
        },
        "id": "4Bzw65osmGsq",
        "outputId": "8ac9f55c-48b5-42f3-97b7-28232d346bc8"
      },
      "execution_count": null,
      "outputs": [
        {
          "output_type": "stream",
          "name": "stdout",
          "text": [
            "List without duplicates: [1, 2, 3, 4, 5]\n"
          ]
        }
      ]
    },
    {
      "cell_type": "code",
      "source": [
        "numbers = [10, 3, 25, 6, 1, 89, 34]\n",
        "\n",
        "largest = numbers[0]\n",
        "smallest = numbers[0]\n",
        "\n",
        "for num in numbers:\n",
        "    if num > largest:\n",
        "        largest = num\n",
        "    if num < smallest:\n",
        "        smallest = num\n",
        "\n",
        "print(\"Largest number:\", largest)\n",
        "print(\"Smallest number:\", smallest)\n"
      ],
      "metadata": {
        "colab": {
          "base_uri": "https://localhost:8080/"
        },
        "id": "mG5E1G1-mOaa",
        "outputId": "5ffc4f81-c6a8-4781-e4f4-29333188dd6b"
      },
      "execution_count": null,
      "outputs": [
        {
          "output_type": "stream",
          "name": "stdout",
          "text": [
            "Largest number: 89\n",
            "Smallest number: 1\n"
          ]
        }
      ]
    },
    {
      "cell_type": "code",
      "source": [
        "collection = {\n",
        "    \"table\" : (\"a piece of furniture\",\"list of facts & figures\"),\n",
        "    \"cat\": \"a small animal\"\n",
        "}\n",
        "print(collection)"
      ],
      "metadata": {
        "colab": {
          "base_uri": "https://localhost:8080/"
        },
        "id": "1y3tBxrN7ZBF",
        "outputId": "e7ebf5c2-6983-4c1c-d11e-af1bf8207c23"
      },
      "execution_count": 4,
      "outputs": [
        {
          "output_type": "stream",
          "name": "stdout",
          "text": [
            "{'table': ('a piece of furniture', 'list of facts & figures'), 'cat': 'a small animal'}\n"
          ]
        }
      ]
    },
    {
      "cell_type": "code",
      "source": [
        "subjects = {\n",
        "    \"java\",\"python\",\"c++\",\"python\",\"java\",\"c++\",\"python\",\"javascript\",\"c\",\n",
        "}\n",
        "print(subjects)\n",
        "print(len(subjects))"
      ],
      "metadata": {
        "colab": {
          "base_uri": "https://localhost:8080/"
        },
        "id": "b2Ginipn8lS2",
        "outputId": "4cc050f0-2be7-4c13-a01e-9c27400f560e"
      },
      "execution_count": 5,
      "outputs": [
        {
          "output_type": "stream",
          "name": "stdout",
          "text": [
            "{'c++', 'python', 'javascript', 'c', 'java'}\n",
            "5\n"
          ]
        }
      ]
    },
    {
      "cell_type": "code",
      "source": [
        "marks_dict = {}\n",
        "marks_dict[\"maths\"] = 98\n",
        "marks_dict.update()\n",
        "marks_dict[\"phy\"] = 94\n",
        "marks_dict.update()\n",
        "marks_dict[\"chem\"] = 95\n",
        "marks_dict.update()\n",
        "\n",
        "print(marks_dict)\n"
      ],
      "metadata": {
        "colab": {
          "base_uri": "https://localhost:8080/"
        },
        "id": "axHkciLn9VBK",
        "outputId": "ebdc5376-eab5-4ab4-e6b3-b620d59ef00b"
      },
      "execution_count": 10,
      "outputs": [
        {
          "output_type": "stream",
          "name": "stdout",
          "text": [
            "{'maths': 98, 'phy': 94, 'chem': 95}\n"
          ]
        }
      ]
    },
    {
      "cell_type": "code",
      "source": [
        "even_num ={2,4,6,8,10}\n",
        "print(even_num)\n",
        "even_num.add(12)\n",
        "print(even_num)"
      ],
      "metadata": {
        "colab": {
          "base_uri": "https://localhost:8080/"
        },
        "id": "UhMiyFphApIx",
        "outputId": "0cd854d0-ef79-464b-f879-b2578be706b9"
      },
      "execution_count": 13,
      "outputs": [
        {
          "output_type": "stream",
          "name": "stdout",
          "text": [
            "{2, 4, 6, 8, 10}\n",
            "{2, 4, 6, 8, 10, 12}\n"
          ]
        }
      ]
    },
    {
      "cell_type": "code",
      "source": [
        "set1 = {1, 2, 3, 4}\n",
        "set2 = {3, 4, 5, 6}\n",
        "print(set1.union(set2))\n",
        "print(set1.intersection(set2))\n",
        "print(set1.difference(set2))"
      ],
      "metadata": {
        "colab": {
          "base_uri": "https://localhost:8080/"
        },
        "id": "kzfO7V2eA8rp",
        "outputId": "dadc536f-f40a-4db0-8fff-d90d5aff3e5e"
      },
      "execution_count": 16,
      "outputs": [
        {
          "output_type": "stream",
          "name": "stdout",
          "text": [
            "{1, 2, 3, 4, 5, 6}\n",
            "{3, 4}\n",
            "{1, 2}\n"
          ]
        }
      ]
    },
    {
      "cell_type": "code",
      "source": [
        "main_set ={1,2,3,4}\n",
        "sub_set ={2,3,4,5}\n",
        "if sub_set.issubset(main_set):\n",
        "  print(\"yes it is\")\n",
        "else:\n",
        "  print(\"no its not\")"
      ],
      "metadata": {
        "colab": {
          "base_uri": "https://localhost:8080/"
        },
        "id": "67x19xPNBU-I",
        "outputId": "38760d33-996b-4355-c07b-c6e546ef45ff"
      },
      "execution_count": 21,
      "outputs": [
        {
          "output_type": "stream",
          "name": "stdout",
          "text": [
            "no its not\n"
          ]
        }
      ]
    },
    {
      "cell_type": "code",
      "source": [
        "nums ={2,3,4,5,6}\n",
        "nums.remove(5)\n",
        "print(nums)"
      ],
      "metadata": {
        "colab": {
          "base_uri": "https://localhost:8080/"
        },
        "id": "oVC7ktZwCT9F",
        "outputId": "ff240e70-1151-418c-f14e-6d3fffd8aa2a"
      },
      "execution_count": 22,
      "outputs": [
        {
          "output_type": "stream",
          "name": "stdout",
          "text": [
            "{2, 3, 4, 6}\n"
          ]
        }
      ]
    },
    {
      "cell_type": "code",
      "source": [
        "nums={1,2,3,4}\n",
        "nums.add([1,2])\n",
        "print(nums)"
      ],
      "metadata": {
        "colab": {
          "base_uri": "https://localhost:8080/",
          "height": 182
        },
        "id": "c7O8JaFbCeE_",
        "outputId": "abb35418-d2a4-40de-bbd4-35d3e25f2f8d"
      },
      "execution_count": 23,
      "outputs": [
        {
          "output_type": "error",
          "ename": "TypeError",
          "evalue": "unhashable type: 'list'",
          "traceback": [
            "\u001b[0;31m---------------------------------------------------------------------------\u001b[0m",
            "\u001b[0;31mTypeError\u001b[0m                                 Traceback (most recent call last)",
            "\u001b[0;32m/tmp/ipython-input-23-424124773.py\u001b[0m in \u001b[0;36m<cell line: 0>\u001b[0;34m()\u001b[0m\n\u001b[1;32m      1\u001b[0m \u001b[0mnums\u001b[0m\u001b[0;34m=\u001b[0m\u001b[0;34m{\u001b[0m\u001b[0;36m1\u001b[0m\u001b[0;34m,\u001b[0m\u001b[0;36m2\u001b[0m\u001b[0;34m,\u001b[0m\u001b[0;36m3\u001b[0m\u001b[0;34m,\u001b[0m\u001b[0;36m4\u001b[0m\u001b[0;34m}\u001b[0m\u001b[0;34m\u001b[0m\u001b[0;34m\u001b[0m\u001b[0m\n\u001b[0;32m----> 2\u001b[0;31m \u001b[0mnums\u001b[0m\u001b[0;34m.\u001b[0m\u001b[0madd\u001b[0m\u001b[0;34m(\u001b[0m\u001b[0;34m[\u001b[0m\u001b[0;36m1\u001b[0m\u001b[0;34m,\u001b[0m\u001b[0;36m2\u001b[0m\u001b[0;34m]\u001b[0m\u001b[0;34m)\u001b[0m\u001b[0;34m\u001b[0m\u001b[0;34m\u001b[0m\u001b[0m\n\u001b[0m\u001b[1;32m      3\u001b[0m \u001b[0mprint\u001b[0m\u001b[0;34m(\u001b[0m\u001b[0mnums\u001b[0m\u001b[0;34m)\u001b[0m\u001b[0;34m\u001b[0m\u001b[0;34m\u001b[0m\u001b[0m\n",
            "\u001b[0;31mTypeError\u001b[0m: unhashable type: 'list'"
          ]
        }
      ]
    },
    {
      "cell_type": "markdown",
      "source": [
        "so yes it gives error because we cant add lists and dictonaries to the sets coz they're mutable and set is an immutable where you add or remove the element but we cant change the element"
      ],
      "metadata": {
        "id": "Xi3Fqi0gCnk3"
      }
    },
    {
      "cell_type": "code",
      "source": [
        "marks = {\n",
        "    \"Math\": 90,\n",
        "    \"Science\": 85,\n",
        "    \"English\": 88,\n",
        "}\n",
        "print(marks[\"Science\"])\n",
        "marks[\"Math\"] = 95\n",
        "marks.update()\n",
        "print(marks)\n"
      ],
      "metadata": {
        "colab": {
          "base_uri": "https://localhost:8080/"
        },
        "id": "D08kNQKdC8hw",
        "outputId": "f9cd208b-b860-4b04-d73a-65a29ef7f415"
      },
      "execution_count": 33,
      "outputs": [
        {
          "output_type": "stream",
          "name": "stdout",
          "text": [
            "85\n",
            "{'Math': 95, 'Science': 85, 'English': 88}\n"
          ]
        }
      ]
    },
    {
      "cell_type": "code",
      "source": [
        "marks = {\n",
        "    \"Math\": 90,\n",
        "    \"Science\": 85,\n",
        "    \"English\": 88,\n",
        "    \"History\": 85,\n",
        "}\n",
        "if \"History\" in (marks):\n",
        "  print(\"yes\")\n",
        "else:\n",
        "  marks[\"History\"]=85\n",
        "  marks.update()\n",
        "  print(marks)"
      ],
      "metadata": {
        "colab": {
          "base_uri": "https://localhost:8080/"
        },
        "id": "ACbh1eCdEfK_",
        "outputId": "c25f5fad-bc26-4d13-855b-d72d38804251"
      },
      "execution_count": 39,
      "outputs": [
        {
          "output_type": "stream",
          "name": "stdout",
          "text": [
            "yes\n"
          ]
        }
      ]
    },
    {
      "cell_type": "code",
      "source": [
        "my_dict = {\n",
        "    \"name\": \"Harshitha\",\n",
        "    \"age\": 19,\n",
        "    \"college\": \"Amity university\",\n",
        "    \"course\": \"B.Tech\"\n",
        "}\n",
        "\n",
        "for key, value in my_dict.items():\n",
        "    print(f\"{key}: {value}\")\n"
      ],
      "metadata": {
        "colab": {
          "base_uri": "https://localhost:8080/"
        },
        "id": "_dh21DkDEQZl",
        "outputId": "fa5a05a5-bf16-4c05-a6c7-7e804300639b"
      },
      "execution_count": 36,
      "outputs": [
        {
          "output_type": "stream",
          "name": "stdout",
          "text": [
            "name: Harshitha\n",
            "age: 19\n",
            "college: Amity university\n",
            "course: B.Tech\n"
          ]
        }
      ]
    },
    {
      "cell_type": "code",
      "source": [
        "students = {\n",
        "    \"Aman\": 78,\n",
        "    \"Riya\": 88,\n",
        "    \"Karan\": 92\n",
        "}\n",
        "print(max(students.values()))"
      ],
      "metadata": {
        "colab": {
          "base_uri": "https://localhost:8080/"
        },
        "id": "oWkCyKlDFoSc",
        "outputId": "b05e7613-d309-42ed-a7b6-c2125530cec5"
      },
      "execution_count": 43,
      "outputs": [
        {
          "output_type": "stream",
          "name": "stdout",
          "text": [
            "92\n"
          ]
        }
      ]
    }
  ]
}